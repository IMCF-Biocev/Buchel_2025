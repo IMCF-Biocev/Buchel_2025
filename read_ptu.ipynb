{
 "cells": [
  {
   "cell_type": "markdown",
   "metadata": {},
   "source": [
    "Import packages"
   ]
  },
  {
   "cell_type": "code",
   "execution_count": 1,
   "metadata": {},
   "outputs": [],
   "source": [
    "from ptufile import PtuFile\n",
    "import numpy as np\n",
    "import xarray as xr\n",
    "import matplotlib.pyplot as plt\n",
    "import tkinter as tk\n",
    "from tkinter import filedialog\n"
   ]
  },
  {
   "cell_type": "markdown",
   "metadata": {},
   "source": [
    "Check number of TCSPC channel bins in all .ptu files in a directory\n",
    "\n",
    "It is rather surprising that the number of bins is somewhat random. As the settings did not change, nor should the number of channels"
   ]
  },
  {
   "cell_type": "markdown",
   "metadata": {},
   "source": [
    "root = tk.Tk()\n",
    "root.withdraw()  # Hide the root window\n",
    "\n",
    "folder_path = filedialog.askdirectory(title = \"Select directory\")\n",
    "root.destroy()\n",
    "\n",
    "import os\n",
    "ptu_files = [f for f in os.listdir(folder_path) if f.endswith('.ptu')]\n",
    "\n",
    "for f in ptu_files:\n",
    "    ptu=PtuFile(os.path.join(folder_path,f))\n",
    "    print(f,ptu.shape[4])"
   ]
  },
  {
   "cell_type": "markdown",
   "metadata": {},
   "source": [
    "User input - get file path"
   ]
  },
  {
   "cell_type": "code",
   "execution_count": null,
   "metadata": {},
   "outputs": [],
   "source": [
    "# Create Tkinter root window\n",
    "root = tk.Tk()\n",
    "root.withdraw()  # Hide the root window\n",
    "\n",
    "# Open file dialog and get selected file\n",
    "file_path = filedialog.askopenfilename(title=\"Select file\",filetypes=[('PicoQuant PTU file', '*.ptu')])\n",
    "root.destroy()\n"
   ]
  },
  {
   "cell_type": "markdown",
   "metadata": {},
   "source": [
    "Read PTU properties from the file for inspection"
   ]
  },
  {
   "cell_type": "code",
   "execution_count": null,
   "metadata": {},
   "outputs": [],
   "source": [
    "ptu=PtuFile(file_path)\n",
    "print(\"PTU file type: \", ptu.type)\n",
    "print(\"Record type: \", ptu.record_type)\n",
    "print(\"Measurement mode: \", ptu.measurement_mode)\n",
    "print(\"Measurement submode: \", ptu.measurement_submode)\n",
    "print(\"Dimensions names: \" , ptu.dims) # 'T' is for frames, i.e., time lapse or z-stack. The latter in our case, 'H' - TCSPC channels\n",
    "print(\"Image shape: \" , ptu.shape)\n",
    "\n",
    "# print(ptu.coords)\n",
    "print(\"Data type: \" , ptu.dtype)\n",
    "print(\"Active channels: \" , ptu.active_channels)\n",
    "print(\"Resolution: \", ptu.tcspc_resolution * 1e12 , \" ps\")\n",
    "print(\"Number of markers: \", ptu.number_markers)\n",
    "print(\"Number of frames: \", ptu.number_images)\n",
    "print(\"Number of lines: \", ptu.number_lines)\n"
   ]
  },
  {
   "cell_type": "markdown",
   "metadata": {},
   "source": [
    "Read the image"
   ]
  },
  {
   "cell_type": "code",
   "execution_count": null,
   "metadata": {},
   "outputs": [],
   "source": [
    "I = ptu.decode_image(asxarray=True)\n",
    "print(\"Raw image shape: \" , I.shape)\n",
    "print(\"Image data class: \" , I.__class__)\n",
    "# print(I[\"T\"]) # only for xarray"
   ]
  },
  {
   "cell_type": "markdown",
   "metadata": {},
   "source": [
    "Process the raw image - apply line binning, z-projection and TCSPC binning"
   ]
  },
  {
   "cell_type": "code",
   "execution_count": null,
   "metadata": {},
   "outputs": [],
   "source": [
    "line_bin = 4\n",
    "time_points = 5\n",
    "tcspc_bin = 8 # target resolution is 40 ps. We used 40 or 5 ps sometimes\n",
    "I_binned = I.coarsen(Y=line_bin, T=4, H=tcspc_bin, boundary=\"trim\").sum().astype(np.uint16)\n",
    "I_binned = I_binned.isel(C=1).squeeze() # select second channel only (donor)\n",
    "time_calibration = tcspc_bin * ptu.tcspc_resolution * 1e9 # channel duration in ns\n",
    "#  get time bins in ns\n",
    "time_bins = I_binned['H'] * 1e9\n",
    "\n",
    "print(\"Processed image shape: \" , I_binned.shape)\n",
    "print(\"TCSC channel width: \", time_calibration, \"ns\")"
   ]
  },
  {
   "cell_type": "markdown",
   "metadata": {},
   "source": [
    "Plot TCSPC histogram of the second channel (acceptor)"
   ]
  },
  {
   "cell_type": "code",
   "execution_count": null,
   "metadata": {},
   "outputs": [],
   "source": [
    "shift = 1.6 # delay of the laser pulse\n",
    "cut_off = 13.5 # number of channel to cut off the decay to get rid of the reflection\n",
    "\n",
    "fig, axes = plt.subplots(1,2, figsize=(16, 6), sharey=True)\n",
    "axes[0].semilogy(time_bins, I_binned.sum(dim=['X','Y'],skipna=True), color = 'blue')\n",
    "axes[0].axvline(shift, color = 'red', linewidth = 1)\n",
    "axes[0].axvline(cut_off, color = 'red', linewidth = 1)\n",
    "axes[0].set_title('TCSPC histogram - raw')\n",
    "axes[0].set_xlabel('time [ns]')\n",
    "axes[0].set_ylabel('photon count')\n",
    "\n",
    "# filter the image - cut off the reflection in the decay\n",
    "I_binned_filtered = I_binned.where(I_binned.coords[\"H\"] <= cut_off * 1e-9, other=0)\n",
    "axes[1].semilogy(time_bins, I_binned_filtered.sum(dim=['X','Y'],skipna=True), color = 'blue')\n",
    "axes[1].set_xlabel('time [ns]')\n",
    "axes[1].set_title('TCSPC histogram - filtered')\n",
    "\n",
    "\n",
    "plt.show()\n",
    "\n"
   ]
  },
  {
   "cell_type": "markdown",
   "metadata": {},
   "source": [
    "Calculate array of mean photon arrival times"
   ]
  },
  {
   "cell_type": "code",
   "execution_count": null,
   "metadata": {},
   "outputs": [],
   "source": [
    "# Perform the weighted sum and total sum\n",
    "weighted_time_sum = (I_binned * time_bins).sum(dim='H')\n",
    "total_photon_count = I_binned.sum(dim='H')\n",
    "\n",
    "# Final result (avoid divide-by-zero)\n",
    "mean_photon_arrival_time = xr.where(\n",
    "    total_photon_count > 0,\n",
    "    weighted_time_sum / total_photon_count,\n",
    "    0\n",
    ") - shift\n"
   ]
  },
  {
   "cell_type": "markdown",
   "metadata": {},
   "source": [
    "Plot mean photon arrival time histogram of the image"
   ]
  },
  {
   "cell_type": "code",
   "execution_count": null,
   "metadata": {},
   "outputs": [],
   "source": [
    "lt_min, lt_max = 1 , 5 # limits for lifetime display\n",
    "\n",
    "plt.figure(figsize=(8, 6))\n",
    "# pat_np = mean_photon_arrival_time.values * time_calibration\n",
    "# plt.hist(pat_np.flatten(), bins=100, color='blue', edgecolor='blue', alpha=0.7)\n",
    "flat_data = mean_photon_arrival_time.values.flatten()\n",
    "flat_data = flat_data[~np.isnan(flat_data) & (flat_data > 0)]\n",
    "\n",
    "plt.hist(flat_data, bins = 100, color= 'blue', edgecolor = 'blue', alpha = 0.7)\n",
    "plt.axvline(lt_min, color = 'red', linewidth = 1)\n",
    "plt.axvline(lt_max, color = 'red', linewidth = 1)\n",
    "plt.title('Histogram of Mean Photon Arrival Times')\n",
    "plt.xlabel('mean photon arrival time [ns]')\n",
    "plt.ylabel('Frequency')\n",
    "plt.grid(True)\n",
    "plt.show()\n"
   ]
  },
  {
   "cell_type": "code",
   "execution_count": null,
   "metadata": {},
   "outputs": [],
   "source": [
    "from scipy.ndimage import gaussian_filter\n",
    "import matplotlib.cm as cm\n",
    "import matplotlib.colors as mcolors\n",
    "\n",
    "# Smooth LT with Gaussian filter\n",
    "n = 0  # Smoothing kernel size (sigma), 0 = no smoothing\n",
    "\n",
    "LT_smoothed = gaussian_filter(mean_photon_arrival_time, sigma=n)\n",
    "\n",
    "# Normalize LT values for colormap mapping\n",
    "LT_normalized = (LT_smoothed - lt_min) / (lt_max - lt_min)  # Scale to [0,1]\n",
    "\n",
    "# Convert LT values to RGB using a colormap (e.g., \"jet\", \"viridis\", \"turbo\")\n",
    "colormap = cm.rainbow  # Change colormap if needed\n",
    "# Create a custom colormap from Green to Magenta\n",
    "# colormap = mcolors.LinearSegmentedColormap.from_list(\"green_magenta\", [(0,1,0), (1,0,1)])\n",
    "# colormap = mcolors.LinearSegmentedColormap.from_list(\"cyan_red\", [\"cyan\", \"red\"])\n",
    "\n",
    "\n",
    "# LT_rgb = colormap(LT_normalized)[..., :3]  # Get RGB (ignore alpha channel)\n",
    "LT_rgb = colormap(LT_normalized)[..., :3]\n",
    "\n",
    "\n",
    "# Normalize Intensity and scale RGB by it\n",
    "intensity_normalized = total_photon_count.values / total_photon_count.values.max()  # Scale to [0,1]\n",
    "FLIM_image = LT_rgb * intensity_normalized[..., np.newaxis]   # Apply intensity\n",
    "\n"
   ]
  },
  {
   "cell_type": "code",
   "execution_count": null,
   "metadata": {},
   "outputs": [],
   "source": [
    "plt.figure(figsize=(8, 6))\n",
    "img = plt.imshow(FLIM_image, cmap=colormap, vmin=lt_min, vmax=lt_max)\n",
    "plt.axis(\"off\")\n",
    "# plt.title(\"FLIM Image (Lifetime + Intensity)\")\n",
    "\n",
    "\n",
    "# Add colorbar\n",
    "plt.colorbar(img, label=\"Lifetime (ns)\")\n",
    "\n",
    "plt.show()"
   ]
  }
 ],
 "metadata": {
  "kernelspec": {
   "display_name": "read_ptu_env",
   "language": "python",
   "name": "python3"
  },
  "language_info": {
   "codemirror_mode": {
    "name": "ipython",
    "version": 3
   },
   "file_extension": ".py",
   "mimetype": "text/x-python",
   "name": "python",
   "nbconvert_exporter": "python",
   "pygments_lexer": "ipython3",
   "version": "3.11.11"
  }
 },
 "nbformat": 4,
 "nbformat_minor": 2
}
